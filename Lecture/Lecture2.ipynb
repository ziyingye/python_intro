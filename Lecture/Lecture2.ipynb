{
 "cells": [
  {
   "cell_type": "markdown",
   "metadata": {},
   "source": [
    "### In Python everything is an object"
   ]
  },
  {
   "cell_type": "code",
   "execution_count": 17,
   "metadata": {},
   "outputs": [],
   "source": [
    "# Creation\n",
    "lst = []\n",
    "tup = ()\n",
    "dictionary1 = {}\n",
    "dictionary2 = dict()\n",
    "s = set()"
   ]
  },
  {
   "cell_type": "code",
   "execution_count": 18,
   "metadata": {},
   "outputs": [
    {
     "name": "stdout",
     "output_type": "stream",
     "text": [
      "{(4, 4), (0, 0), (1, 1), (3, 3), (2, 2)}\n",
      "{(4, 4), 0, (0, 0), (1, 1), (3, 3), (2, 2)}\n"
     ]
    }
   ],
   "source": [
    "for i in range (5):\n",
    "    s.add((i,i))\n",
    "print(s)\n",
    "s.add(0)\n",
    "print(s)"
   ]
  },
  {
   "cell_type": "code",
   "execution_count": 19,
   "metadata": {},
   "outputs": [
    {
     "name": "stdout",
     "output_type": "stream",
     "text": [
      "[]\n"
     ]
    }
   ],
   "source": [
    "# range is an object and it's a generator\n",
    "rng = range(5)\n",
    "print(lst)"
   ]
  },
  {
   "cell_type": "code",
   "execution_count": 20,
   "metadata": {},
   "outputs": [
    {
     "data": {
      "text/plain": "([0, 1, 2, 3, 4], (0, 1, 2, 3, 4), {0, 1, 2, 3, 4})"
     },
     "execution_count": 20,
     "metadata": {},
     "output_type": "execute_result"
    }
   ],
   "source": [
    "# Change type\n",
    "rng2lst = list(rng)\n",
    "rng2tup = tuple(rng)\n",
    "rng2set = set(rng)\n",
    "rng2lst, rng2tup, rng2set"
   ]
  },
  {
   "cell_type": "markdown",
   "metadata": {},
   "source": [
    "# Dictionaries – The MOST IMPORTANT Python data structure\n",
    "## Dictionary is a sequence of (key, value) pairs"
   ]
  },
  {
   "cell_type": "code",
   "execution_count": 21,
   "metadata": {},
   "outputs": [
    {
     "data": {
      "text/plain": "{'Name': 'Ziying', 'Height': 168, 'Weight': 90.9, 'Loc': (10, 100, 2)}"
     },
     "execution_count": 21,
     "metadata": {},
     "output_type": "execute_result"
    }
   ],
   "source": [
    "dictionary = {\n",
    "    \"Name\": \"Ziying\",\n",
    "    \"Height\": 168,\n",
    "    \"Weight\": 90.9,\n",
    "    \"Loc\": (10, 100 , 2)\n",
    "}\n",
    "dictionary "
   ]
  },
  {
   "cell_type": "markdown",
   "metadata": {},
   "source": [
    "### Loop: \n",
    "#### 1 . while loop"
   ]
  },
  {
   "cell_type": "code",
   "execution_count": 22,
   "metadata": {},
   "outputs": [
    {
     "name": "stdout",
     "output_type": "stream",
     "text": [
      "CPU times: user 8 µs, sys: 1 µs, total: 9 µs\n",
      "Wall time: 10.5 µs\n"
     ]
    },
    {
     "data": {
      "text/plain": "[0, 1, 2, 3, 4]"
     },
     "execution_count": 22,
     "metadata": {},
     "output_type": "execute_result"
    }
   ],
   "source": [
    "%%time\n",
    "i: int = 0\n",
    "lst: list = []\n",
    "while i < 10: #while True\n",
    "    if i == 5:\n",
    "        i += 1 # i=i+1\n",
    "        break\n",
    "#         continue\n",
    "    else:\n",
    "        lst.append(i)\n",
    "        i += 1\n",
    "\n",
    "lst"
   ]
  },
  {
   "cell_type": "code",
   "execution_count": 23,
   "outputs": [
    {
     "name": "stdout",
     "output_type": "stream",
     "text": [
      "CPU times: user 9 µs, sys: 1 µs, total: 10 µs\n",
      "Wall time: 10.5 µs\n"
     ]
    },
    {
     "data": {
      "text/plain": "[0, 1, 2, 3, 4, 6, 7, 8, 9]"
     },
     "execution_count": 23,
     "metadata": {},
     "output_type": "execute_result"
    }
   ],
   "source": [
    "%%time\n",
    "i: int = 0\n",
    "lst: list = []\n",
    "while i < 10: #while True\n",
    "    if i == 5:\n",
    "        i += 1 # i=i+1\n",
    "        continue\n",
    "    else:\n",
    "        lst.append(i)\n",
    "        i += 1\n",
    "\n",
    "lst"
   ],
   "metadata": {
    "collapsed": false,
    "pycharm": {
     "name": "#%%\n"
    }
   }
  },
  {
   "cell_type": "code",
   "execution_count": 24,
   "metadata": {},
   "outputs": [
    {
     "name": "stdout",
     "output_type": "stream",
     "text": [
      "15\n",
      "10\n",
      "5\n"
     ]
    }
   ],
   "source": [
    "i=15\n",
    "while True:\n",
    "    print(i)\n",
    "    i -= 5 \n",
    "    if i == 5:\n",
    "        print(i)\n",
    "        break"
   ]
  },
  {
   "cell_type": "markdown",
   "metadata": {},
   "source": [
    "#### 1. For loop "
   ]
  },
  {
   "cell_type": "code",
   "execution_count": 25,
   "metadata": {},
   "outputs": [
    {
     "name": "stdout",
     "output_type": "stream",
     "text": [
      "[0, 1, 2, 3, 4]\n",
      "[0, 1, 2, 3, 4]\n",
      "[1, 2, 3, 4]\n",
      "[1, 3]\n",
      "[1, 4]\n"
     ]
    }
   ],
   "source": [
    "print(list(range(5))) # [0, 5)\n",
    "print(list(range(0, 5)))\n",
    "print(list(range(1, 5)))\n",
    "print(list(range(1, 5, 2)))\n",
    "print(list(range(1, 5, 3)))"
   ]
  },
  {
   "cell_type": "code",
   "execution_count": 26,
   "metadata": {},
   "outputs": [
    {
     "name": "stdout",
     "output_type": "stream",
     "text": [
      "0\n",
      "1\n",
      "2\n",
      "4\n"
     ]
    },
    {
     "data": {
      "text/plain": "[0, 1, 2, 4]"
     },
     "execution_count": 26,
     "metadata": {},
     "output_type": "execute_result"
    }
   ],
   "source": [
    "lst =[]\n",
    "for i in range(0, 5):\n",
    "    if i == 3:\n",
    "        continue\n",
    "    lst.append(i)\n",
    "    print(i)\n",
    "lst"
   ]
  },
  {
   "cell_type": "code",
   "execution_count": 27,
   "outputs": [
    {
     "name": "stdout",
     "output_type": "stream",
     "text": [
      "0\n",
      "1\n",
      "2\n"
     ]
    },
    {
     "data": {
      "text/plain": "[0, 1, 2]"
     },
     "execution_count": 27,
     "metadata": {},
     "output_type": "execute_result"
    }
   ],
   "source": [
    "lst =[]\n",
    "for i in range(0, 5):\n",
    "    if i == 3:\n",
    "        break\n",
    "    lst.append(i)\n",
    "    print(i)\n",
    "lst"
   ],
   "metadata": {
    "collapsed": false,
    "pycharm": {
     "name": "#%%\n"
    }
   }
  },
  {
   "cell_type": "markdown",
   "metadata": {},
   "source": [
    "## List comprehension"
   ]
  },
  {
   "cell_type": "code",
   "execution_count": 28,
   "metadata": {},
   "outputs": [
    {
     "data": {
      "text/plain": "[0, 1, 2, 3, 4]"
     },
     "execution_count": 28,
     "metadata": {},
     "output_type": "execute_result"
    }
   ],
   "source": [
    "example = [i for i in range(5)]\n",
    "example"
   ]
  },
  {
   "cell_type": "code",
   "execution_count": 29,
   "metadata": {},
   "outputs": [
    {
     "data": {
      "text/plain": "[10, 11, 12, 14]"
     },
     "execution_count": 29,
     "metadata": {},
     "output_type": "execute_result"
    }
   ],
   "source": [
    "example = [i+10 for i in range(0,5) if i != 3]\n",
    "example"
   ]
  },
  {
   "cell_type": "code",
   "execution_count": 30,
   "metadata": {},
   "outputs": [
    {
     "data": {
      "text/plain": "[1.55]"
     },
     "execution_count": 30,
     "metadata": {},
     "output_type": "execute_result"
    }
   ],
   "source": [
    "lst =[1.55]\n",
    "for i in range(-5, 5):\n",
    "    if i%2 == 0 or i > 0 or isinstance(i, int):\n",
    "#         break\n",
    "        continue\n",
    "    lst.append(i)\n",
    "    print(i)\n",
    "lst "
   ]
  },
  {
   "cell_type": "code",
   "execution_count": 31,
   "metadata": {},
   "outputs": [],
   "source": [
    "# other language vs. python\n",
    "# != -> != \n",
    "# !-> not\n",
    "# | -> or\n",
    "# & -> and"
   ]
  },
  {
   "cell_type": "code",
   "execution_count": 32,
   "metadata": {},
   "outputs": [
    {
     "name": "stdout",
     "output_type": "stream",
     "text": [
      "0 is int\n",
      "1 is int\n",
      "2 is int\n",
      "str is str\n",
      "1.5 is float\n",
      "True is int\n",
      "[] is is not any type above\n"
     ]
    }
   ],
   "source": [
    "lst = [0,1,2, \"str\", 1.5, True, []]\n",
    "\n",
    "for i in lst:\n",
    "    if isinstance(i, int):\n",
    "        print(f\"{i} is int\")\n",
    "        ...\n",
    "    elif isinstance(i, float):\n",
    "        print(f\"{i} is float\")\n",
    "        ...\n",
    "    elif isinstance(i, str):\n",
    "        print(f\"{i} is str\")\n",
    "        ...\n",
    "    elif isinstance(i, bool):\n",
    "        print(f\"{i} is bool\")\n",
    "        ...\n",
    "    else:\n",
    "        print(f\"{i} is is not any type above\")\n",
    "        ...\n",
    "    "
   ]
  }
 ],
 "metadata": {
  "kernelspec": {
   "display_name": "Python 3",
   "language": "python",
   "name": "python3"
  },
  "language_info": {
   "codemirror_mode": {
    "name": "ipython",
    "version": 3
   },
   "file_extension": ".py",
   "mimetype": "text/x-python",
   "name": "python",
   "nbconvert_exporter": "python",
   "pygments_lexer": "ipython3",
   "version": "3.8.5"
  }
 },
 "nbformat": 4,
 "nbformat_minor": 4
}