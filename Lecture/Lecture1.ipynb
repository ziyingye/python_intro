{
 "cells": [
  {
   "cell_type": "markdown",
   "metadata": {},
   "source": [
    "### TypeHint"
   ]
  },
  {
   "cell_type": "code",
   "execution_count": 1,
   "metadata": {},
   "outputs": [],
   "source": [
    "a: int = 1\n",
    "b: float = 1.5\n",
    "c: str = 's'\n",
    "d: str = \"hello\"\n",
    "e: str ='hello'\n",
    "f: bool = True\n",
    "g: bool = False"
   ]
  },
  {
   "cell_type": "code",
   "execution_count": 11,
   "metadata": {},
   "outputs": [
    {
     "data": {
      "text/plain": [
       "'hello'"
      ]
     },
     "execution_count": 11,
     "metadata": {},
     "output_type": "execute_result"
    }
   ],
   "source": [
    "# C/C++ Java\n",
    "#'char character'\n",
    "string='h'+'e'+'l'+'l'+'o'\n",
    "string"
   ]
  },
  {
   "cell_type": "markdown",
   "metadata": {},
   "source": [
    "float double\n",
    "\n",
    "float -> float32  \n",
    "\n",
    "double -> float 64 "
   ]
  },
  {
   "cell_type": "code",
   "execution_count": 21,
   "metadata": {},
   "outputs": [],
   "source": [
    "# initiation\n",
    "w: list = []\n",
    "x: tuple = ()\n",
    "y: dict = {}\n",
    "\n",
    "# change type\n",
    "w = list()\n",
    "x = tuple()\n",
    "y = dict()\n",
    "\n"
   ]
  },
  {
   "cell_type": "code",
   "execution_count": 2,
   "metadata": {},
   "outputs": [
    {
     "name": "stdout",
     "output_type": "stream",
     "text": [
      "0\n",
      "w: [1]\n",
      "w: [1, 15]\n",
      "w: [1, 15, 20]\n"
     ]
    }
   ],
   "source": [
    "# w is a List. List always append element to the rightmost/end.\n",
    "w = []\n",
    "print(len(w))\n",
    "w.append(1)\n",
    "print(f\"w: {w}\")\n",
    "w.append(15)\n",
    "print(f\"w: {w}\")\n",
    "w.append(20)\n",
    "print(f\"w: {w}\")"
   ]
  },
  {
   "cell_type": "code",
   "execution_count": 3,
   "metadata": {},
   "outputs": [
    {
     "ename": "TypeError",
     "evalue": "append() takes exactly one argument (3 given)",
     "output_type": "error",
     "traceback": [
      "\u001B[0;31m---------------------------------------------------------------------------\u001B[0m",
      "\u001B[0;31mTypeError\u001B[0m                                 Traceback (most recent call last)",
      "\u001B[0;32m<ipython-input-3-e6159af16582>\u001B[0m in \u001B[0;36m<module>\u001B[0;34m\u001B[0m\n\u001B[1;32m      1\u001B[0m \u001B[0;31m# list append() only take singel argument\u001B[0m\u001B[0;34m\u001B[0m\u001B[0;34m\u001B[0m\u001B[0;34m\u001B[0m\u001B[0m\n\u001B[0;32m----> 2\u001B[0;31m \u001B[0mw\u001B[0m\u001B[0;34m.\u001B[0m\u001B[0mappend\u001B[0m\u001B[0;34m(\u001B[0m\u001B[0;36m20\u001B[0m\u001B[0;34m,\u001B[0m\u001B[0;36m15\u001B[0m\u001B[0;34m,\u001B[0m\u001B[0;36m100\u001B[0m\u001B[0;34m)\u001B[0m\u001B[0;34m\u001B[0m\u001B[0;34m\u001B[0m\u001B[0m\n\u001B[0m",
      "\u001B[0;31mTypeError\u001B[0m: append() takes exactly one argument (3 given)"
     ]
    }
   ],
   "source": [
    "# list append() only take single argument\n",
    "w.append(20,15,100)"
   ]
  },
  {
   "cell_type": "code",
   "execution_count": 4,
   "metadata": {},
   "outputs": [
    {
     "data": {
      "text/plain": [
       "[1, 15, 20, [20, 15, 100]]"
      ]
     },
     "execution_count": 4,
     "metadata": {},
     "output_type": "execute_result"
    }
   ],
   "source": [
    "# append a list of int, resulting in nest List\n",
    "lst = [20,15,100]\n",
    "w.append(lst)\n",
    "w"
   ]
  },
  {
   "cell_type": "code",
   "execution_count": 5,
   "metadata": {},
   "outputs": [
    {
     "data": {
      "text/plain": [
       "[1, 15, 20, 20, 15, 100]"
      ]
     },
     "execution_count": 5,
     "metadata": {},
     "output_type": "execute_result"
    }
   ],
   "source": [
    "# solution to avoid nest List -> single List\n",
    "w = [1,15,20]\n",
    "w.extend([20,15,100])\n",
    "w"
   ]
  },
  {
   "cell_type": "code",
   "execution_count": 7,
   "metadata": {},
   "outputs": [
    {
     "name": "stdout",
     "output_type": "stream",
     "text": [
      "[1, 15, 20, 20]\n",
      "[1, 15, 20, 20, 15]\n",
      "[1, 15, 20, 20, 15, 100]\n"
     ]
    },
    {
     "data": {
      "text/plain": [
       "[1, 15, 20, 20, 15, 100]"
      ]
     },
     "execution_count": 7,
     "metadata": {},
     "output_type": "execute_result"
    }
   ],
   "source": [
    "# which is equivalent to w.extend([...])\n",
    "# append each element in lst to w one by one\n",
    "w: list = [1,15,20]\n",
    "for element in lst:\n",
    "    w.append(element)\n",
    "    print(w)\n",
    "w"
   ]
  },
  {
   "cell_type": "code",
   "execution_count": 8,
   "metadata": {},
   "outputs": [
    {
     "name": "stdout",
     "output_type": "stream",
     "text": [
      "deque([1, 15, 20])\n",
      "<class 'collections.deque'>\n"
     ]
    }
   ],
   "source": [
    "# What if we want to append element in the leftmost/start\n",
    "# Deque comes in handy\n",
    "w = [1,15,20]\n",
    "from collections import deque \n",
    "# from list -> deque\n",
    "# deque = deque(list) change an data structure type list into deque\n",
    "w: deque = deque(w)\n",
    "print(w)\n",
    "print(type(w))\n"
   ]
  },
  {
   "cell_type": "code",
   "execution_count": 9,
   "metadata": {},
   "outputs": [
    {
     "data": {
      "text/plain": [
       "deque([100, 1, 15, 20])"
      ]
     },
     "execution_count": 9,
     "metadata": {},
     "output_type": "execute_result"
    }
   ],
   "source": [
    "# Note w here is a deque, it append element to the leftmost or start\n",
    "w.appendleft(100)\n",
    "w"
   ]
  },
  {
   "cell_type": "markdown",
   "metadata": {},
   "source": [
    "## Sorting a list or tuple or deque"
   ]
  },
  {
   "cell_type": "code",
   "execution_count": 10,
   "metadata": {},
   "outputs": [
    {
     "name": "stdout",
     "output_type": "stream",
     "text": [
      "unsorted w: [2, 1, 3, 5, 6, 9, 8]\n",
      "sorted w: [1, 2, 3, 5, 6, 8, 9]\n"
     ]
    }
   ],
   "source": [
    "# Note sort is in ascending order\n",
    "w = [2,1,3,5,6,9,8]\n",
    "print(f\"unsorted w: {w}\")\n",
    "w= sorted(w)\n",
    "print(f\"sorted w: {w} in ascending order\")"
   ]
  },
  {
   "cell_type": "code",
   "execution_count": 11,
   "metadata": {},
   "outputs": [
    {
     "name": "stdout",
     "output_type": "stream",
     "text": [
      "sorted w: [9, 8, 6, 5, 3, 2, 1] in descending order\n"
     ]
    }
   ],
   "source": [
    "# What if we want descending order?\n",
    "w = sorted(w, reverse=True)\n",
    "print(f\"sorted w: {w} in descending order\")"
   ]
  },
  {
   "cell_type": "code",
   "execution_count": 14,
   "metadata": {},
   "outputs": [
    {
     "name": "stdout",
     "output_type": "stream",
     "text": [
      "sorted w: [9, 8, 6, 5, 3, 2, 1] in descending order use sorted(w), reversed() and change type into list()\n"
     ]
    }
   ],
   "source": [
    "# Equavalent to \n",
    "w = [2,1,3,5,6,9,8]\n",
    "w = list(reversed(sorted(w)))\n",
    "print(f\"sorted w: {w} in descending order use sorted(w), reversed() and change type into list()\")"
   ]
  },
  {
   "cell_type": "markdown",
   "metadata": {},
   "source": [
    "## Insert an element in to list"
   ]
  },
  {
   "cell_type": "code",
   "execution_count": 15,
   "metadata": {},
   "outputs": [
    {
     "name": "stdout",
     "output_type": "stream",
     "text": [
      "w after insert 100 to index 0:[100, 2, 1, 3, 5, 6, 9, 8]\n",
      "w after insert 100 to index 3:[2, 1, 3, 100, 5, 6, 9, 8]\n",
      "w after insert 100 to index 0 first and index 3 next:[100, 2, 1, 100, 3, 5, 6, 9, 8]\n"
     ]
    }
   ],
   "source": [
    "w = [2,1,3,5,6,9,8]\n",
    "w.insert(0, 100)\n",
    "print(f\"w after insert 100 to index 0:{w}\")\n",
    "w = [2,1,3,5,6,9,8]\n",
    "w.insert(3, 100)\n",
    "print(f\"w after insert 100 to index 3:{w}\")\n",
    "w = [2,1,3,5,6,9,8]\n",
    "w.insert(0, 100)\n",
    "w.insert(3, 100)\n",
    "print(f\"w after insert 100 to index 0 first and index 3 next:{w}\")"
   ]
  },
  {
   "cell_type": "markdown",
   "metadata": {},
   "source": [
    "## Pop a list element. Pop remove and return the rightmost element"
   ]
  },
  {
   "cell_type": "code",
   "execution_count": 89,
   "metadata": {},
   "outputs": [
    {
     "data": {
      "text/plain": [
       "[100, 1, 2, 100, 3, 5, 6, 8, 100]"
      ]
     },
     "execution_count": 89,
     "metadata": {},
     "output_type": "execute_result"
    }
   ],
   "source": [
    "w.pop()\n",
    "w"
   ]
  },
  {
   "cell_type": "code",
   "execution_count": 90,
   "metadata": {},
   "outputs": [
    {
     "data": {
      "text/plain": [
       "[100, 1, 2, 100, 3, 5, 6, 100]"
      ]
     },
     "execution_count": 90,
     "metadata": {},
     "output_type": "execute_result"
    }
   ],
   "source": [
    "w.pop(-2)\n",
    "w"
   ]
  },
  {
   "cell_type": "markdown",
   "metadata": {},
   "source": [
    "## Remove() is similar to pop() but it doesn't return the removed element\n",
    "Note Remove only!!"
   ]
  },
  {
   "cell_type": "code",
   "execution_count": 16,
   "metadata": {},
   "outputs": [
    {
     "data": {
      "text/plain": [
       "[2, 3, 5, 6, 9, 8]"
      ]
     },
     "execution_count": 16,
     "metadata": {},
     "output_type": "execute_result"
    }
   ],
   "source": [
    "w = [2,1,3,5,6,9,8]\n",
    "w.remove(1)\n",
    "w"
   ]
  },
  {
   "cell_type": "markdown",
   "metadata": {},
   "source": [
    "# Reverse the list"
   ]
  },
  {
   "cell_type": "code",
   "execution_count": 94,
   "metadata": {},
   "outputs": [
    {
     "data": {
      "text/plain": [
       "[0, 1, 2, 3]"
      ]
     },
     "execution_count": 94,
     "metadata": {},
     "output_type": "execute_result"
    }
   ],
   "source": [
    "w = list(range(4))\n",
    "w"
   ]
  },
  {
   "cell_type": "code",
   "execution_count": 95,
   "metadata": {},
   "outputs": [
    {
     "data": {
      "text/plain": [
       "(0, 3)"
      ]
     },
     "execution_count": 95,
     "metadata": {},
     "output_type": "execute_result"
    }
   ],
   "source": [
    "w[0], w[-1]"
   ]
  },
  {
   "cell_type": "markdown",
   "metadata": {},
   "source": [
    "### Reverse the list by indexing "
   ]
  },
  {
   "cell_type": "code",
   "execution_count": 96,
   "metadata": {},
   "outputs": [
    {
     "data": {
      "text/plain": [
       "[3, 2, 1, 0]"
      ]
     },
     "execution_count": 96,
     "metadata": {},
     "output_type": "execute_result"
    }
   ],
   "source": [
    "w[::-1]"
   ]
  },
  {
   "cell_type": "code",
   "execution_count": 98,
   "metadata": {},
   "outputs": [
    {
     "data": {
      "text/plain": [
       "0"
      ]
     },
     "execution_count": 98,
     "metadata": {},
     "output_type": "execute_result"
    }
   ],
   "source": [
    "w[-4]"
   ]
  },
  {
   "cell_type": "markdown",
   "metadata": {},
   "source": [
    "## Reverse the list by using reverse()"
   ]
  },
  {
   "cell_type": "code",
   "execution_count": 99,
   "metadata": {},
   "outputs": [
    {
     "data": {
      "text/plain": [
       "[3, 2, 1, 0]"
      ]
     },
     "execution_count": 99,
     "metadata": {},
     "output_type": "execute_result"
    }
   ],
   "source": [
    "w.reverse()\n",
    "w"
   ]
  },
  {
   "cell_type": "markdown",
   "metadata": {},
   "source": [
    "## Clear the list"
   ]
  },
  {
   "cell_type": "code",
   "execution_count": 101,
   "metadata": {},
   "outputs": [],
   "source": [
    "w.clear()\n",
    "w"
   ]
  },
  {
   "cell_type": "markdown",
   "metadata": {},
   "source": [
    "## delete the list object "
   ]
  },
  {
   "cell_type": "code",
   "execution_count": 103,
   "metadata": {},
   "outputs": [],
   "source": [
    "del w"
   ]
  },
  {
   "cell_type": "code",
   "execution_count": 104,
   "metadata": {},
   "outputs": [
    {
     "ename": "NameError",
     "evalue": "name 'w' is not defined",
     "output_type": "error",
     "traceback": [
      "\u001B[0;31m---------------------------------------------------------------------------\u001B[0m",
      "\u001B[0;31mNameError\u001B[0m                                 Traceback (most recent call last)",
      "\u001B[0;32m<ipython-input-104-74c7db5447c3>\u001B[0m in \u001B[0;36m<module>\u001B[0;34m\u001B[0m\n\u001B[0;32m----> 1\u001B[0;31m \u001B[0mw\u001B[0m\u001B[0;34m\u001B[0m\u001B[0;34m\u001B[0m\u001B[0m\n\u001B[0m",
      "\u001B[0;31mNameError\u001B[0m: name 'w' is not defined"
     ]
    }
   ],
   "source": [
    "# After delete the list it will not exist\n",
    "w"
   ]
  },
  {
   "cell_type": "markdown",
   "metadata": {},
   "source": [
    "###  Dictionary is a container stores (key, value) pairs\n",
    "### We will continue in next Lecture"
   ]
  },
  {
   "cell_type": "code",
   "execution_count": null,
   "metadata": {},
   "outputs": [],
   "source": []
  }
 ],
 "metadata": {
  "kernelspec": {
   "display_name": "Python 3",
   "language": "python",
   "name": "python3"
  },
  "language_info": {
   "codemirror_mode": {
    "name": "ipython",
    "version": 3
   },
   "file_extension": ".py",
   "mimetype": "text/x-python",
   "name": "python",
   "nbconvert_exporter": "python",
   "pygments_lexer": "ipython3",
   "version": "3.8.5"
  }
 },
 "nbformat": 4,
 "nbformat_minor": 4
}