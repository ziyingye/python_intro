{
 "cells": [
  {
   "cell_type": "code",
   "execution_count": 56,
   "metadata": {},
   "outputs": [],
   "source": [
    "from typing import List, Set, Dict, Tuple, Optional, Any\n",
    " "
   ]
  },
  {
   "cell_type": "code",
   "execution_count": 57,
   "metadata": {},
   "outputs": [
    {
     "data": {
      "text/plain": "{'name': 'Ziying', 'height': [162, 165, 169], 'weight': 100.0}"
     },
     "execution_count": 57,
     "metadata": {},
     "output_type": "execute_result"
    }
   ],
   "source": [
    "my_dict1: Dict[str, Any] = {\n",
    "    \"name\":  \"Ziying\",\n",
    "    \"height\": [162, 165, 169],\n",
    "    \"weight\": 100.0\n",
    "}\n",
    "my_dict1"
   ]
  },
  {
   "cell_type": "markdown",
   "metadata": {},
   "source": [
    "### Any object type:\n",
    "    data type\n",
    "    data structure type\n",
    "    "
   ]
  },
  {
   "cell_type": "code",
   "execution_count": 58,
   "metadata": {},
   "outputs": [
    {
     "name": "stdout",
     "output_type": "stream",
     "text": [
      "{}\n",
      "{'name': 'Ziying', 'height': [165], 'weight': [100.1]}\n"
     ]
    }
   ],
   "source": [
    "my_dict2: dict = {}\n",
    "print(my_dict2)\n",
    "my_dict2[\"name\"] = \"Ziying\"\n",
    "my_dict2[\"height\"] = [165]\n",
    "my_dict2[\"weight\"] = [100.1]\n",
    "print(my_dict2)\n"
   ]
  },
  {
   "cell_type": "code",
   "execution_count": 59,
   "metadata": {},
   "outputs": [
    {
     "data": {
      "text/plain": "range(0, 5)"
     },
     "execution_count": 59,
     "metadata": {},
     "output_type": "execute_result"
    }
   ],
   "source": [
    "lst = [1,2,3,4,5]\n",
    "\n",
    "len(lst)\n",
    "range(len(lst))"
   ]
  },
  {
   "cell_type": "markdown",
   "metadata": {
    "pycharm": {
     "name": "#%% md\n"
    }
   },
   "source": [
    "## iterable"
   ],
   "execution_count": 60
  },
  {
   "cell_type": "code",
   "execution_count": 61,
   "outputs": [
    {
     "name": "stdout",
     "output_type": "stream",
     "text": [
      "k: 0\n",
      "k: 1\n",
      "k: 2\n",
      "k: 3\n",
      "k: 4\n",
      "j: 1\n",
      "j: 2\n",
      "j: 3\n",
      "j: 4\n",
      "j: 5\n",
      "i,e: (0, 1)\n",
      "i,e: (1, 2)\n",
      "i,e: (2, 3)\n",
      "i,e: (3, 4)\n",
      "i,e: (4, 5)\n"
     ]
    }
   ],
   "source": [
    "for k in range(len(lst)):\n",
    "    print(f\"k: {k}\")\n",
    "\n",
    "for j in lst:\n",
    "    print(f\"j: {j}\")\n",
    "    \n",
    "\n",
    "for i, e in enumerate(lst):\n",
    "    print(f\"i,e: {i,e}\")"
   ],
   "metadata": {
    "collapsed": false,
    "pycharm": {
     "name": "#%%\n"
    }
   }
  },
  {
   "cell_type": "code",
   "execution_count": 62,
   "metadata": {},
   "outputs": [
    {
     "data": {
      "text/plain": "dict_items([('name', 'Ziying'), ('height', [165]), ('weight', [100.1])])"
     },
     "execution_count": 62,
     "metadata": {},
     "output_type": "execute_result"
    }
   ],
   "source": [
    "my_dict2.items()"
   ]
  },
  {
   "cell_type": "code",
   "execution_count": 63,
   "metadata": {},
   "outputs": [
    {
     "name": "stdout",
     "output_type": "stream",
     "text": [
      "name\n",
      "height\n",
      "weight\n",
      "\n",
      "Ziying\n",
      "[165]\n",
      "[100.1]\n",
      "\n",
      "name Ziying\n",
      "height [165]\n",
      "weight [100.1]\n"
     ]
    }
   ],
   "source": [
    "# non-iterable\n",
    "for key in my_dict2.keys():\n",
    "    print(key)\n",
    "\n",
    "print()\n",
    "for value in my_dict2.values():\n",
    "    print(value)\n",
    "print()\n",
    "for key, value in my_dict2.items():\n",
    "    print(key,value)"
   ]
  },
  {
   "cell_type": "code",
   "execution_count": 64,
   "metadata": {},
   "outputs": [
    {
     "data": {
      "text/plain": "{'name': 'Ziying', 'height': [165], 'weight': [100.1]}"
     },
     "execution_count": 64,
     "metadata": {},
     "output_type": "execute_result"
    }
   ],
   "source": [
    "my_dict2"
   ]
  },
  {
   "cell_type": "code",
   "execution_count": 65,
   "metadata": {},
   "outputs": [
    {
     "data": {
      "text/plain": "{'name': 'Yifan Wu the teacher', 'height': [165], 'weight': [100.1]}"
     },
     "execution_count": 65,
     "metadata": {},
     "output_type": "execute_result"
    }
   ],
   "source": [
    "my_dict2[\"name\"]=\"Yifan Wu the teacher\"\n",
    "my_dict2"
   ]
  },
  {
   "cell_type": "code",
   "execution_count": 66,
   "metadata": {},
   "outputs": [
    {
     "data": {
      "text/plain": "{'Ziying': 'name', 162: 'height', 100.0: 'weight'}"
     },
     "execution_count": 66,
     "metadata": {},
     "output_type": "execute_result"
    }
   ],
   "source": [
    "# Inverse dict's key value into (value, key)\n",
    "\n",
    "my_dict1: Dict[str, Any] = {\n",
    "    \"name\":  \"Ziying\",\n",
    "    \"height\": 162,\n",
    "    \"weight\": 100.0\n",
    "}\n",
    "inv_dict ={v:k  for k, v in my_dict1.items()}\n",
    "inv_dict"
   ]
  },
  {
   "cell_type": "code",
   "execution_count": 67,
   "metadata": {},
   "outputs": [
    {
     "name": "stdout",
     "output_type": "stream",
     "text": [
      "1,2,3,4\n"
     ]
    }
   ],
   "source": [
    "# unpack\n",
    "tup = (1, 2 ,3, 4)\n",
    "w,x,y,z = tup\n",
    "print(f\"{w},{x},{y},{z}\")"
   ]
  },
  {
   "cell_type": "code",
   "execution_count": 68,
   "metadata": {},
   "outputs": [
    {
     "name": "stdout",
     "output_type": "stream",
     "text": [
      "msg 2\n",
      "msg 2\n",
      "msg 2\n",
      "msg 20.000\n"
     ]
    }
   ],
   "source": [
    "# f-string\n",
    "print(\"msg\", x)\n",
    "print(\"msg %i\" %x)\n",
    "print(\"msg {}\".format(x))\n",
    "print(f\"msg {float(x*10) :.3f}\")\n"
   ]
  },
  {
   "cell_type": "code",
   "execution_count": 69,
   "metadata": {},
   "outputs": [
    {
     "name": "stdout",
     "output_type": "stream",
     "text": [
      "msg 3.142\n"
     ]
    }
   ],
   "source": [
    "from math import pi\n",
    "pi\n",
    "print(f\"msg {pi:.3f}\")"
   ]
  },
  {
   "cell_type": "markdown",
   "source": [
    "## unpacking"
   ],
   "metadata": {
    "collapsed": false,
    "pycharm": {
     "name": "#%% md\n"
    }
   }
  },
  {
   "cell_type": "code",
   "execution_count": 70,
   "metadata": {},
   "outputs": [],
   "source": [
    "\n",
    "x,y,*z = tup"
   ]
  },
  {
   "cell_type": "code",
   "execution_count": 71,
   "metadata": {},
   "outputs": [
    {
     "data": {
      "text/plain": "(1, 2, [3, 4])"
     },
     "execution_count": 71,
     "metadata": {},
     "output_type": "execute_result"
    }
   ],
   "source": [
    "x, y, z"
   ]
  },
  {
   "cell_type": "code",
   "execution_count": 72,
   "metadata": {},
   "outputs": [],
   "source": [
    "x,*y,z = tup"
   ]
  },
  {
   "cell_type": "code",
   "execution_count": 73,
   "metadata": {},
   "outputs": [
    {
     "data": {
      "text/plain": "(1, [2, 3], 4)"
     },
     "execution_count": 73,
     "metadata": {},
     "output_type": "execute_result"
    }
   ],
   "source": [
    "x, y, z"
   ]
  },
  {
   "cell_type": "code",
   "execution_count": 74,
   "metadata": {},
   "outputs": [
    {
     "name": "stdout",
     "output_type": "stream",
     "text": [
      "name\n",
      "height\n",
      "weight\n"
     ]
    }
   ],
   "source": [
    "for i in my_dict1:\n",
    "    print(i)"
   ]
  },
  {
   "cell_type": "code",
   "execution_count": 75,
   "metadata": {},
   "outputs": [
    {
     "name": "stdout",
     "output_type": "stream",
     "text": [
      "{'a': 1, 'b': 2, 'c': 3, 'A': 1, 'B': 2, 'C': 3}\n",
      "{'a': 1, 'b': 2, 'c': 3, 'A': 1, 'B': 2, 'C': 3}\n"
     ]
    }
   ],
   "source": [
    "# Unions of Dictionaries\n",
    "d1 = {'a':1, 'b':2, 'c':3}\n",
    "d2 = {'A':1, 'B':2, 'C':3}\n",
    "\n",
    "print(dict(d1,**d2)) # combo of d1 and d2\n",
    "print({**d1,**d2}) # using dict syntax"
   ]
  },
  {
   "cell_type": "code",
   "execution_count": 76,
   "metadata": {},
   "outputs": [
    {
     "data": {
      "text/plain": "(1, [2, 3])"
     },
     "execution_count": 76,
     "metadata": {},
     "output_type": "execute_result"
    }
   ],
   "source": [
    "(x,y)"
   ]
  },
  {
   "cell_type": "code",
   "execution_count": 76,
   "metadata": {},
   "outputs": [],
   "source": []
  },
  {
   "cell_type": "markdown",
   "metadata": {},
   "source": [
    "## Function \n",
    "2 input argument:\n",
    "    1. position argument: position is fix and no default value\n",
    "    2. keyword argument: position can be fixed and has default value"
   ]
  },
  {
   "cell_type": "code",
   "execution_count": 77,
   "metadata": {},
   "outputs": [],
   "source": [
    "def got_it(x ,y, z=100):\n",
    "    ...\n",
    "    print(f\"x:{x}, y:{y}, z:{z}\")"
   ]
  },
  {
   "cell_type": "code",
   "execution_count": 78,
   "metadata": {},
   "outputs": [],
   "source": [
    "def got_itv2(*args, **kwargs):\n",
    "    ...\n"
   ]
  },
  {
   "cell_type": "code",
   "execution_count": 79,
   "metadata": {},
   "outputs": [],
   "source": [
    "i,j,k = 1,2,3"
   ]
  },
  {
   "cell_type": "code",
   "execution_count": 80,
   "metadata": {},
   "outputs": [],
   "source": [
    "from math import pi"
   ]
  },
  {
   "cell_type": "code",
   "execution_count": 81,
   "metadata": {},
   "outputs": [],
   "source": [
    "def circle(r, angle=360):\n",
    "    \"\"\"\n",
    "    compute arc length of a circle\n",
    "    :param r: positive length of randium\n",
    "    :type: float\n",
    "    :param angle: angle of circle in deg [0, 360]\n",
    "    :type: float\n",
    "    :return arc_len, arc_area\n",
    "    \"\"\"\n",
    "    assert isinstance(r, float) or isinstance(r, int), \"r must be int or float\"\n",
    "    assert isinstance(angle, float) or isinstance(angle, int), \"angle must be int or float\"\n",
    "    assert r > 0, \"r must greater than 0\"\n",
    "    assert 0<= angle <=360, \"angle in range between 0 and 360\"\n",
    "    \n",
    "    arc_len = 2 * pi *r * angle/360\n",
    "    arc_area = pi * r**2 * angle/360\n",
    "    return arc_len, arc_area"
   ]
  },
  {
   "cell_type": "code",
   "execution_count": 82,
   "metadata": {},
   "outputs": [
    {
     "data": {
      "text/plain": "(15.707963267948966, 39.269908169872416)"
     },
     "execution_count": 82,
     "metadata": {},
     "output_type": "execute_result"
    }
   ],
   "source": [
    "l = circle(r=5,angle=180)\n",
    "l"
   ]
  },
  {
   "cell_type": "code",
   "execution_count": 83,
   "metadata": {},
   "outputs": [
    {
     "name": "stdout",
     "output_type": "stream",
     "text": [
      "(6.283185307179586, 3.141592653589793)\n",
      "(12.566370614359172, 12.566370614359172)\n",
      "(18.84955592153876, 28.274333882308134)\n",
      "(25.132741228718345, 50.26548245743669)\n"
     ]
    }
   ],
   "source": [
    "for i in range(1,5):\n",
    "    print(circle(r=i))"
   ]
  },
  {
   "cell_type": "code",
   "execution_count": 83,
   "metadata": {},
   "outputs": [],
   "source": []
  }
 ],
 "metadata": {
  "kernelspec": {
   "display_name": "Python 3",
   "language": "python",
   "name": "python3"
  },
  "language_info": {
   "codemirror_mode": {
    "name": "ipython",
    "version": 3
   },
   "file_extension": ".py",
   "mimetype": "text/x-python",
   "name": "python",
   "nbconvert_exporter": "python",
   "pygments_lexer": "ipython3",
   "version": "3.8.5"
  }
 },
 "nbformat": 4,
 "nbformat_minor": 4
}