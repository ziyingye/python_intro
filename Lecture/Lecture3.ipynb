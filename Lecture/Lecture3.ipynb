{
 "cells": [
  {
   "cell_type": "code",
   "execution_count": 1,
   "metadata": {},
   "outputs": [],
   "source": [
    "from typing import List, Set, Dict, Tuple, Optional, Any\n",
    " "
   ]
  },
  {
   "cell_type": "code",
   "execution_count": 2,
   "metadata": {},
   "outputs": [
    {
     "data": {
      "text/plain": "{'name': 'Ziying', 'height': [162, 165, 169], 'weight': 100.0}"
     },
     "execution_count": 2,
     "metadata": {},
     "output_type": "execute_result"
    }
   ],
   "source": [
    "my_dict1: Dict[str, Any] = {\n",
    "    \"name\":  \"Ziying\",\n",
    "    \"height\": [162, 165, 169],\n",
    "    \"weight\": 100.0\n",
    "}\n",
    "my_dict1"
   ]
  },
  {
   "cell_type": "markdown",
   "metadata": {},
   "source": [
    "### Any object type:\n",
    "    data type\n",
    "    data structure type\n",
    "    "
   ]
  },
  {
   "cell_type": "code",
   "execution_count": 3,
   "metadata": {},
   "outputs": [
    {
     "name": "stdout",
     "output_type": "stream",
     "text": [
      "{}\n",
      "{'name': 'Ziying', 'height': [165], 'weight': [100.1]}\n"
     ]
    }
   ],
   "source": [
    "my_dict2: dict = {}\n",
    "print(my_dict2)\n",
    "my_dict2[\"name\"] = \"Ziying\"\n",
    "my_dict2[\"height\"] = [165]\n",
    "my_dict2[\"weight\"] = [100.1]\n",
    "print(my_dict2)\n"
   ]
  },
  {
   "cell_type": "code",
   "execution_count": 4,
   "metadata": {},
   "outputs": [
    {
     "data": {
      "text/plain": "range(0, 5)"
     },
     "execution_count": 4,
     "metadata": {},
     "output_type": "execute_result"
    }
   ],
   "source": [
    "lst = [1,2,3,4,5]\n",
    "\n",
    "len(lst)\n",
    "range(len(lst))"
   ]
  },
  {
   "cell_type": "code",
   "execution_count": 5,
   "metadata": {},
   "outputs": [
    {
     "name": "stdout",
     "output_type": "stream",
     "text": [
      "k: 0\n",
      "k: 1\n",
      "k: 2\n",
      "k: 3\n",
      "k: 4\n",
      "j: 1\n",
      "j: 2\n",
      "j: 3\n",
      "j: 4\n",
      "j: 5\n",
      "i,e: (0, 1)\n",
      "i,e: (1, 2)\n",
      "i,e: (2, 3)\n",
      "i,e: (3, 4)\n",
      "i,e: (4, 5)\n"
     ]
    }
   ],
   "source": [
    "# iterable\n",
    "for k in range(len(lst)):\n",
    "    print(f\"k: {k}\")\n",
    "\n",
    "for j in lst:\n",
    "    print(f\"j: {j}\")\n",
    "    \n",
    "\n",
    "for i, e in enumerate(lst):\n",
    "    print(f\"i,e: {i,e}\")"
   ]
  },
  {
   "cell_type": "code",
   "execution_count": 6,
   "metadata": {},
   "outputs": [
    {
     "data": {
      "text/plain": "dict_items([('name', 'Ziying'), ('height', [165]), ('weight', [100.1])])"
     },
     "execution_count": 6,
     "metadata": {},
     "output_type": "execute_result"
    }
   ],
   "source": [
    "my_dict2.items()"
   ]
  },
  {
   "cell_type": "code",
   "execution_count": 7,
   "metadata": {},
   "outputs": [
    {
     "name": "stdout",
     "output_type": "stream",
     "text": [
      "name\n",
      "height\n",
      "weight\n",
      "\n",
      "Ziying\n",
      "[165]\n",
      "[100.1]\n",
      "\n",
      "name Ziying\n",
      "height [165]\n",
      "weight [100.1]\n"
     ]
    }
   ],
   "source": [
    "# non-iterable\n",
    "for key in my_dict2.keys():\n",
    "    print(key)\n",
    "\n",
    "print()\n",
    "for value in my_dict2.values():\n",
    "    print(value)\n",
    "print()\n",
    "for key, value in my_dict2.items():\n",
    "    print(key,value)"
   ]
  },
  {
   "cell_type": "code",
   "execution_count": 8,
   "metadata": {},
   "outputs": [
    {
     "data": {
      "text/plain": "{'name': 'Ziying', 'height': [165], 'weight': [100.1]}"
     },
     "execution_count": 8,
     "metadata": {},
     "output_type": "execute_result"
    }
   ],
   "source": [
    "my_dict2"
   ]
  },
  {
   "cell_type": "code",
   "execution_count": 9,
   "metadata": {},
   "outputs": [
    {
     "data": {
      "text/plain": "{'name': 'Yifan Wu the teacher', 'height': [165], 'weight': [100.1]}"
     },
     "execution_count": 9,
     "metadata": {},
     "output_type": "execute_result"
    }
   ],
   "source": [
    "my_dict2[\"name\"]=\"Yifan Wu the teacher\"\n",
    "my_dict2"
   ]
  },
  {
   "cell_type": "code",
   "execution_count": 10,
   "metadata": {},
   "outputs": [
    {
     "data": {
      "text/plain": "{'Ziying': 'name', 162: 'height', 100.0: 'weight'}"
     },
     "execution_count": 10,
     "metadata": {},
     "output_type": "execute_result"
    }
   ],
   "source": [
    "\n",
    "my_dict1: Dict[str, Any] = {\n",
    "    \"name\":  \"Ziying\",\n",
    "    \"height\": 162,\n",
    "    \"weight\": 100.0\n",
    "}\n",
    "inv_dict ={v:k  for k, v in my_dict1.items()}\n",
    "inv_dict"
   ]
  },
  {
   "cell_type": "code",
   "execution_count": 11,
   "metadata": {},
   "outputs": [
    {
     "name": "stdout",
     "output_type": "stream",
     "text": [
      "1,2,3,4\n"
     ]
    }
   ],
   "source": [
    "# unpack\n",
    "tup = (1, 2 ,3, 4)\n",
    "w,x,y,z = tup\n",
    "print(f\"{w},{x},{y},{z}\")"
   ]
  },
  {
   "cell_type": "code",
   "execution_count": 12,
   "metadata": {},
   "outputs": [
    {
     "name": "stdout",
     "output_type": "stream",
     "text": [
      "msg 2\n",
      "msg 2\n",
      "msg 2\n",
      "msg 20.000\n"
     ]
    }
   ],
   "source": [
    "# f-string\n",
    "print(\"msg\", x)\n",
    "print(\"msg %i\" %x)\n",
    "print(\"msg {}\".format(x))\n",
    "print(f\"msg {float(x*10) :.3f}\")\n"
   ]
  },
  {
   "cell_type": "code",
   "execution_count": 13,
   "metadata": {},
   "outputs": [
    {
     "name": "stdout",
     "output_type": "stream",
     "text": [
      "msg 3.142\n"
     ]
    }
   ],
   "source": [
    "from math import pi\n",
    "pi\n",
    "print(f\"msg {pi:.3f}\")"
   ]
  },
  {
   "cell_type": "code",
   "execution_count": 14,
   "metadata": {},
   "outputs": [],
   "source": [
    "x,y,*z = tup"
   ]
  },
  {
   "cell_type": "code",
   "execution_count": 15,
   "metadata": {},
   "outputs": [
    {
     "data": {
      "text/plain": "(1, 2, [3, 4])"
     },
     "execution_count": 15,
     "metadata": {},
     "output_type": "execute_result"
    }
   ],
   "source": [
    "x, y, z"
   ]
  },
  {
   "cell_type": "code",
   "execution_count": 16,
   "metadata": {},
   "outputs": [],
   "source": [
    "x,*y,z = tup"
   ]
  },
  {
   "cell_type": "code",
   "execution_count": 17,
   "metadata": {},
   "outputs": [
    {
     "data": {
      "text/plain": "(1, [2, 3], 4)"
     },
     "execution_count": 17,
     "metadata": {},
     "output_type": "execute_result"
    }
   ],
   "source": [
    "x, y, z"
   ]
  },
  {
   "cell_type": "code",
   "execution_count": 18,
   "metadata": {},
   "outputs": [
    {
     "name": "stdout",
     "output_type": "stream",
     "text": [
      "name\n",
      "height\n",
      "weight\n"
     ]
    }
   ],
   "source": [
    "for i in my_dict1:\n",
    "    print(i)"
   ]
  },
  {
   "cell_type": "code",
   "execution_count": 19,
   "metadata": {},
   "outputs": [
    {
     "name": "stdout",
     "output_type": "stream",
     "text": [
      "{'a': 1, 'b': 2, 'c': 3, 'A': 1, 'B': 2, 'C': 3}\n",
      "{'a': 1, 'b': 2, 'c': 3, 'A': 1, 'B': 2, 'C': 3}\n"
     ]
    }
   ],
   "source": [
    "# Unions of Dictionaries\n",
    "d1 = {'a':1, 'b':2, 'c':3}\n",
    "d2 = {'A':1, 'B':2, 'C':3}\n",
    "\n",
    "print(dict(d1,**d2)) # combo of d1 and d2\n",
    "print({**d1,**d2}) # using dict syntax"
   ]
  },
  {
   "cell_type": "code",
   "execution_count": 20,
   "metadata": {},
   "outputs": [
    {
     "data": {
      "text/plain": "(1, [2, 3])"
     },
     "execution_count": 20,
     "metadata": {},
     "output_type": "execute_result"
    }
   ],
   "source": [
    "(x,y)"
   ]
  },
  {
   "cell_type": "code",
   "execution_count": 20,
   "metadata": {},
   "outputs": [],
   "source": []
  },
  {
   "cell_type": "markdown",
   "metadata": {},
   "source": [
    "## Function \n",
    "2 input argument:\n",
    "    1. position argument: position is fix and no default value\n",
    "    2. keyword argument: position can be fix and has default value"
   ]
  },
  {
   "cell_type": "code",
   "execution_count": 21,
   "metadata": {},
   "outputs": [],
   "source": [
    "def got_it(x ,y, z=100):\n",
    "    ...\n",
    "    print(f\"x:{x}, y:{y}, z:{z}\")"
   ]
  },
  {
   "cell_type": "code",
   "execution_count": 22,
   "metadata": {},
   "outputs": [],
   "source": [
    "def got_itv2(*args, **kwargs):\n",
    "    ...\n"
   ]
  },
  {
   "cell_type": "code",
   "execution_count": 23,
   "metadata": {},
   "outputs": [],
   "source": [
    "i,j,k = 1,2,3"
   ]
  },
  {
   "cell_type": "code",
   "execution_count": 24,
   "metadata": {},
   "outputs": [],
   "source": [
    "from math import pi"
   ]
  },
  {
   "cell_type": "code",
   "execution_count": 25,
   "metadata": {},
   "outputs": [],
   "source": [
    "def circle(r, angle=360):\n",
    "    \"\"\"\n",
    "    compute arc length of a circle\n",
    "    :param r: positive length of randium\n",
    "    :type: float\n",
    "    :param angle: angle of circle in deg [0, 360]\n",
    "    :type: float\n",
    "    :return arc_len, arc_area\n",
    "    \"\"\"\n",
    "    assert isinstance(r, float) or isinstance(r, int), \"r must be int or float\"\n",
    "    assert isinstance(angle, float) or isinstance(angle, int), \"angle must be int or float\"\n",
    "    assert r > 0, \"r must greater than 0\"\n",
    "    assert 0<= angle <=360, \"angle in range between 0 and 360\"\n",
    "    \n",
    "    arc_len = 2 * pi *r * angle/360\n",
    "    arc_area = pi * r**2 * angle/360\n",
    "    return arc_len, arc_area"
   ]
  },
  {
   "cell_type": "code",
   "execution_count": 26,
   "metadata": {},
   "outputs": [
    {
     "data": {
      "text/plain": "(15.707963267948966, 39.269908169872416)"
     },
     "execution_count": 26,
     "metadata": {},
     "output_type": "execute_result"
    }
   ],
   "source": [
    "l = circle(r=5,angle=180)\n",
    "l"
   ]
  },
  {
   "cell_type": "code",
   "execution_count": 27,
   "metadata": {},
   "outputs": [
    {
     "ename": "AssertionError",
     "evalue": "r must greater than 0",
     "output_type": "error",
     "traceback": [
      "\u001B[0;31m---------------------------------------------------------------------------\u001B[0m",
      "\u001B[0;31mAssertionError\u001B[0m                            Traceback (most recent call last)",
      "\u001B[0;32m<ipython-input-27-ab78b9687e37>\u001B[0m in \u001B[0;36m<module>\u001B[0;34m\u001B[0m\n\u001B[1;32m      1\u001B[0m \u001B[0;32mfor\u001B[0m \u001B[0mi\u001B[0m \u001B[0;32min\u001B[0m \u001B[0mrange\u001B[0m\u001B[0;34m(\u001B[0m\u001B[0;36m5\u001B[0m\u001B[0;34m)\u001B[0m\u001B[0;34m:\u001B[0m\u001B[0;34m\u001B[0m\u001B[0;34m\u001B[0m\u001B[0m\n\u001B[0;32m----> 2\u001B[0;31m     \u001B[0mprint\u001B[0m\u001B[0;34m(\u001B[0m\u001B[0mcircle\u001B[0m\u001B[0;34m(\u001B[0m\u001B[0mr\u001B[0m\u001B[0;34m=\u001B[0m\u001B[0mi\u001B[0m\u001B[0;34m)\u001B[0m\u001B[0;34m)\u001B[0m\u001B[0;34m\u001B[0m\u001B[0;34m\u001B[0m\u001B[0m\n\u001B[0m\u001B[1;32m      3\u001B[0m \u001B[0;34m\u001B[0m\u001B[0m\n",
      "\u001B[0;32m<ipython-input-25-84d2b9c0f215>\u001B[0m in \u001B[0;36mcircle\u001B[0;34m(r, angle)\u001B[0m\n\u001B[1;32m     10\u001B[0m     \u001B[0;32massert\u001B[0m \u001B[0misinstance\u001B[0m\u001B[0;34m(\u001B[0m\u001B[0mr\u001B[0m\u001B[0;34m,\u001B[0m \u001B[0mfloat\u001B[0m\u001B[0;34m)\u001B[0m \u001B[0;32mor\u001B[0m \u001B[0misinstance\u001B[0m\u001B[0;34m(\u001B[0m\u001B[0mr\u001B[0m\u001B[0;34m,\u001B[0m \u001B[0mint\u001B[0m\u001B[0;34m)\u001B[0m\u001B[0;34m,\u001B[0m \u001B[0;34m\"r must be int or float\"\u001B[0m\u001B[0;34m\u001B[0m\u001B[0;34m\u001B[0m\u001B[0m\n\u001B[1;32m     11\u001B[0m     \u001B[0;32massert\u001B[0m \u001B[0misinstance\u001B[0m\u001B[0;34m(\u001B[0m\u001B[0mangle\u001B[0m\u001B[0;34m,\u001B[0m \u001B[0mfloat\u001B[0m\u001B[0;34m)\u001B[0m \u001B[0;32mor\u001B[0m \u001B[0misinstance\u001B[0m\u001B[0;34m(\u001B[0m\u001B[0mangle\u001B[0m\u001B[0;34m,\u001B[0m \u001B[0mint\u001B[0m\u001B[0;34m)\u001B[0m\u001B[0;34m,\u001B[0m \u001B[0;34m\"angle must be int or float\"\u001B[0m\u001B[0;34m\u001B[0m\u001B[0;34m\u001B[0m\u001B[0m\n\u001B[0;32m---> 12\u001B[0;31m     \u001B[0;32massert\u001B[0m \u001B[0mr\u001B[0m \u001B[0;34m>\u001B[0m \u001B[0;36m0\u001B[0m\u001B[0;34m,\u001B[0m \u001B[0;34m\"r must greater than 0\"\u001B[0m\u001B[0;34m\u001B[0m\u001B[0;34m\u001B[0m\u001B[0m\n\u001B[0m\u001B[1;32m     13\u001B[0m     \u001B[0;32massert\u001B[0m \u001B[0;36m0\u001B[0m\u001B[0;34m<=\u001B[0m \u001B[0mangle\u001B[0m \u001B[0;34m<=\u001B[0m\u001B[0;36m360\u001B[0m\u001B[0;34m,\u001B[0m \u001B[0;34m\"angle in range between 0 and 360\"\u001B[0m\u001B[0;34m\u001B[0m\u001B[0;34m\u001B[0m\u001B[0m\n\u001B[1;32m     14\u001B[0m \u001B[0;34m\u001B[0m\u001B[0m\n",
      "\u001B[0;31mAssertionError\u001B[0m: r must greater than 0"
     ]
    }
   ],
   "source": [
    "for i in range(5):\n",
    "    print(circle(r=i))"
   ]
  },
  {
   "cell_type": "code",
   "execution_count": null,
   "metadata": {},
   "outputs": [],
   "source": []
  }
 ],
 "metadata": {
  "kernelspec": {
   "display_name": "Python 3",
   "language": "python",
   "name": "python3"
  },
  "language_info": {
   "codemirror_mode": {
    "name": "ipython",
    "version": 3
   },
   "file_extension": ".py",
   "mimetype": "text/x-python",
   "name": "python",
   "nbconvert_exporter": "python",
   "pygments_lexer": "ipython3",
   "version": "3.8.5"
  }
 },
 "nbformat": 4,
 "nbformat_minor": 4
}