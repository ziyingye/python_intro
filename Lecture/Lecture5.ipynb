{
 "cells": [
  {
   "cell_type": "markdown",
   "metadata": {},
   "source": [
    "### Example 1"
   ]
  },
  {
   "cell_type": "code",
   "execution_count": 1,
   "metadata": {},
   "outputs": [],
   "source": [
    "def compute_sum_to_n(n):\n",
    "    \"\"\"\n",
    "    computes the sum of all non-negative integers to n -> sum([0:1:n])\n",
    "    \n",
    "    :param n: input int\n",
    "    :type n: inT\n",
    "    \"\"\"\n",
    "    assert isinstance(n,int), \"n must be int.\"\n",
    "    assert 0<=n, \"n must equal or greater than zero.\"\n",
    "#     sum_n = (0 + n ) * (n+1) / 2\n",
    "    sum_n = sum(range(0,n+1,1))\n",
    "    return sum_n\n",
    "\n"
   ]
  },
  {
   "cell_type": "code",
   "execution_count": 2,
   "metadata": {},
   "outputs": [
    {
     "name": "stdout",
     "output_type": "stream",
     "text": [
      "100\n",
      "test: 5050\n",
      "output: 5050\n",
      "True\n"
     ]
    }
   ],
   "source": [
    "lst1= list(range(0,101,1))\n",
    "print(lst1[-1])\n",
    "n = lst1[-1]\n",
    "\n",
    "# test case\n",
    "lst_sum = sum(lst1)\n",
    "print(f\"test: {lst_sum}\")\n",
    "# fuction output\n",
    "ans = compute_sum_to_n(n=n)\n",
    "print(f\"output: {ans}\")\n",
    "\n",
    "# assertion \n",
    "assert lst_sum == ans\n",
    "print(lst_sum == ans)"
   ]
  },
  {
   "cell_type": "markdown",
   "metadata": {},
   "source": [
    "### Example 2\n",
    "Given a list filter out all element which is a multipe of 3 store theses elements in another list"
   ]
  },
  {
   "cell_type": "code",
   "execution_count": 3,
   "metadata": {},
   "outputs": [
    {
     "name": "stdout",
     "output_type": "stream",
     "text": [
      "orignal lst: [-3.0, 0, [1, 4, 7, 1, 4, 7, 1, 4, 7], 49, 64, 102, 111]\n"
     ]
    }
   ],
   "source": [
    "lst = [-3.0, 0, list(range(1,9,3))*3, 49, 64, 102, 111,]\n",
    "print(f\"orignal lst: {lst}\")\n",
    "\n",
    "def multipleof3(lst):\n",
    "    # solution \n",
    "    lst1 = []\n",
    "    lst2  = []\n",
    "    for i in lst:\n",
    "        if isinstance(i, list):\n",
    "            lst2.extend(i)\n",
    "        elif isinstance(i, float) or isinstance(i, int):\n",
    "            if i%3 == 0:\n",
    "                lst1.append(i)\n",
    "    \n",
    "    print(lst1)\n",
    "    print(lst2)\n",
    "#     #filter\n",
    "    for j in lst2:\n",
    "        if j%3 == 0:\n",
    "            lst1.append(j)\n",
    "    print(lst1)\n",
    "    "
   ]
  },
  {
   "cell_type": "code",
   "execution_count": 4,
   "metadata": {},
   "outputs": [
    {
     "name": "stdout",
     "output_type": "stream",
     "text": [
      "[-3.0, 0, 102, 111]\n",
      "[1, 4, 7, 1, 4, 7, 1, 4, 7]\n",
      "[-3.0, 0, 102, 111]\n"
     ]
    }
   ],
   "source": [
    "#test case\n",
    "# test_lst = [0,1,2,3]\n",
    "test_lst = [list(range(0,4,3))*10]\n",
    "# output ans:\n",
    "lst = [-3.0, 0, list(range(1,9,3))*3, 49, 64, 102, 111,]\n",
    "multipleof3(lst)\n"
   ]
  },
  {
   "cell_type": "code",
   "execution_count": null,
   "metadata": {},
   "outputs": [],
   "source": []
  },
  {
   "cell_type": "markdown",
   "metadata": {},
   "source": [
    "### Example 3"
   ]
  },
  {
   "cell_type": "code",
   "execution_count": 5,
   "metadata": {},
   "outputs": [
    {
     "data": {
      "text/plain": [
       "[[0, 0, 0], [1], 2, [3, 3, 3, 3, 3, 3], [4, 4]]"
      ]
     },
     "execution_count": 5,
     "metadata": {},
     "output_type": "execute_result"
    }
   ],
   "source": [
    "number = [[0]*3, [1], 2, [3]*6, [4]*2,]\n",
    "number"
   ]
  },
  {
   "cell_type": "code",
   "execution_count": 6,
   "metadata": {},
   "outputs": [],
   "source": [
    "from collections import defaultdict"
   ]
  },
  {
   "cell_type": "code",
   "execution_count": 12,
   "metadata": {},
   "outputs": [],
   "source": [
    "def count_occur(num_lst: list) -> dict:\n",
    "    flat_lst =  []\n",
    "    occr_dict = {}\n",
    "    occr_set = set()\n",
    "    occr_dict = defaultdict(list)\n",
    "\n",
    "    for i in num_lst:\n",
    "        if isinstance(i, list):\n",
    "            flat_lst.extend(i)\n",
    "        elif isinstance(i, int):\n",
    "            flat_lst.append(i)\n",
    "    \n",
    "    # naive key value soln\n",
    "    for j in flat_lst:\n",
    "        j = str(j)\n",
    "        if j not in occr_dict.keys():\n",
    "            occr_dict[j] = 1\n",
    "        else:\n",
    "            occr_dict[j] += 1\n",
    "    \n",
    "    # set soln        \n",
    "    for j in flat_lst:\n",
    "        j = str(j)\n",
    "        if j not in occr_set:\n",
    "            occr_set.add(j)\n",
    "            occr_dict[j] = 1\n",
    "        else:\n",
    "            occr_dict[j] += 1\n",
    "    \n",
    "    # deafult dict soln\n",
    "#     for j in flat_lst:\n",
    "#         j = str(j)\n",
    "#         occr_dict[j].append(j)\n",
    "#     for k,v in occr_dict.items():\n",
    "#          occr_dict[k] = len(v)\n",
    "    return occr_dict"
   ]
  },
  {
   "cell_type": "code",
   "execution_count": 13,
   "metadata": {},
   "outputs": [
    {
     "name": "stdout",
     "output_type": "stream",
     "text": [
      "defaultdict(<class 'list'>, {'0': 3, '1': 1, '2': 1, '3': 6, '4': 2})\n"
     ]
    }
   ],
   "source": [
    "ans = count_occur(number)\n",
    "print(ans)"
   ]
  },
  {
   "cell_type": "code",
   "execution_count": null,
   "metadata": {},
   "outputs": [],
   "source": []
  }
 ],
 "metadata": {
  "kernelspec": {
   "display_name": "Python 3",
   "language": "python",
   "name": "python3"
  },
  "language_info": {
   "codemirror_mode": {
    "name": "ipython",
    "version": 3
   },
   "file_extension": ".py",
   "mimetype": "text/x-python",
   "name": "python",
   "nbconvert_exporter": "python",
   "pygments_lexer": "ipython3",
   "version": "3.8.5"
  }
 },
 "nbformat": 4,
 "nbformat_minor": 4
}
