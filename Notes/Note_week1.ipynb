{
 "cells": [
  {
   "cell_type": "markdown",
   "source": [
    "# TypeHint\n",
    "    a: int = 1\n",
    "    b: float = 1.5\n",
    "    c: str = 's'\n",
    "    d: str = \"hello\"\n",
    "    e: str = 'hello'\n",
    "    f: bool = True\n",
    "    g: bool = False"
   ],
   "metadata": {
    "collapsed": false,
    "pycharm": {
     "name": "#%% md\n"
    }
   }
  },
  {
   "cell_type": "markdown",
   "source": [
    "# initiation            change type\n",
    "w: list = []            w = list()\n",
    "x: tuple = ()           x = tuple()\n",
    "y: dict = {}            y = dict()"
   ],
   "metadata": {
    "collapsed": false,
    "pycharm": {
     "name": "#%% md\n"
    }
   }
  },
  {
   "cell_type": "markdown",
   "source": [
    "# List\n",
    "## Creation:\n",
    "    1. w: list = []\n",
    "    2. w = list()"
   ],
   "metadata": {
    "collapsed": false,
    "pycharm": {
     "name": "#%% md\n"
    }
   }
  },
  {
   "cell_type": "markdown",
   "source": [
    "## .append():\n",
    "    1. List always append elements to the rightmost/end.\n",
    "\n",
    "    2. print(f\"w: {w}\") -> w: [element(s) in w: list]\n",
    "        eg: w = []                              w.append(15)\n",
    "            print(len(w)) -> 0                  print(f\"w: {w}\") -> w: [1,15]\n",
    "\n",
    "            w.append(1)                         w.append(20)\n",
    "            print(f\"w: {w}\") -> w: [1]          print(f\"w: {w}\") -> w: [1,15,20]\n",
    "\n",
    "    3. List append() only take single argument\n",
    "        eg: w.append(20, 15, 100) -> Error: append() takes exactly one argument (3 given)\n",
    "\n",
    "    4. Append a list of int, resulting in nest List\n",
    "        eg: lst = [20, 15, 100]\n",
    "            w.append(lst)\n",
    "            print(w) -> [1, 15, 20, [20, 15, 100]]\n",
    "\n",
    "## .extend([...]):\n",
    "    1. Solution to avoid nest List -> single List\n",
    "        eg: w = [1,15,20]\n",
    "            w.extend([20,15,100])\n",
    "            print(w) -> [1, 15, 20, 20, 15, 100]\n",
    "\n",
    "    2. Append each element in lst to w one by one\n",
    "        is equivalent to w.extend([...])\n",
    "        eg: w: list = [1, 15, 20]\n",
    "            for element in lst:\n",
    "            w.append(element)\n",
    "                        [1, 15, 20, 20]\n",
    "            print(w) -> [1, 15, 20, 20, 15]      -> [1, 15, 20, 20, 15, 100]\n",
    "                        [1, 15, 20, 20, 15, 100]\n",
    "\n",
    "## Deque:\n",
    "    1. What if we want to append elements in the leftmost/start?\n",
    "       -> Deque comes in handy!\n",
    "        eg: w = [1,15,20]\n",
    "            from collections import deque\n",
    "            # from list -> deque\n",
    "            # deque = deque(list) change an data structure type list into deque\n",
    "            w: deque = deque(w)\n",
    "            print(w) -> deque([1, 15, 20])\n",
    "            print(type(w)) -> <class 'collections.deque'>\n",
    "\n",
    "    2. Note w here is a deque, it append element to the leftmost or start\n",
    "        eg: w.appendleft(100)\n",
    "            print(w) -> deque([100, 1, 15, 20])\n",
    "\n",
    "## Sorted():\n",
    "    1. Note sort is in ascending order\n",
    "        eg: w = [2, 1, 3, 5, 6, 9, 8]\n",
    "            print(f\"unsorted w: {w}\") -> unsorted w: [2, 1, 3, 5, 6, 9, 8]\n",
    "            w= sorted(w)\n",
    "            print(f\"sorted w: {w} in ascending order\") -> sorted w: [1, 2, 3, 5, 6, 8, 9]\n",
    "\n",
    "    2. What if we want descending order?\n",
    "        eg: w = sorted(w, reverse=True)\n",
    "        print(f\"sorted w: {w} in descending order\") -> sorted w: [9, 8, 6, 5, 3, 2, 1] in descending order\n",
    "       Equivalent to:\n",
    "        eg: w = [2, 1, 3, 5, 6, 9, 8]\n",
    "            w = list(reversed(sorted(w)))\n",
    "            print(f\"sorted w: {w} in descending order use sorted(w), reversed() and change type into list()\")\n",
    "            -> sorted w: [9, 8, 6, 5, 3, 2, 1] in descending order use sorted(w), reversed() and change type into list()\n",
    "\n",
    "## .insert():\n",
    "        eg1: w = [2, 1, 3, 5, 6, 9, 8]\n",
    "             w.insert(0, 100)\n",
    "             print(f\"w after insert 100 to index 0:{w}\") -> w after insert 100 to index 0:[100, 2, 1, 3, 5, 6, 9, 8]\n",
    "\n",
    "        eg2: w = [2, 1, 3, 5, 6, 9, 8]\n",
    "             w.insert(3, 100)\n",
    "             print(f\"w after insert 100 to index 3:{w}\") -> w after insert 100 to index 3:[2, 1, 3, 100, 5, 6, 9, 8]\n",
    "\n",
    "        eg3: w = [2, 1, 3, 5, 6, 9, 8]\n",
    "             w.insert(0, 100)\n",
    "             w.insert(3, 100)\n",
    "             print(f\"w after insert 100 to index 0 first and index 3 next:{w}\")\n",
    "             -> w after insert 100 to index 0 first and index 3 next:[100, 2, 1, 100, 3, 5, 6, 9, 8]\n",
    "\n",
    "## .pop():\n",
    "    1. Pop a list element. Pop remove and return the rightmost element\n",
    "        eg: w = [100, 1, 2, 100, 3, 5, 6, 9]\n",
    "            w.pop()\n",
    "            print(w) -> [100, 1, 2, 100, 3, 5, 6]\n",
    "            w.pop(-2)\n",
    "            print(w) -> [100, 1, 2, 100, 3, 6]\n",
    "\n",
    "## .remove():\n",
    "    1. Remove() is similar to pop() but it doesn't return the removed element\n",
    "       Note Remove only!!\n",
    "        eg: w = [2, 1, 3, 5, 6, 9, 8]\n",
    "            w.remove(1)\n",
    "            print(w) -> [2, 3, 5, 6, 9, 8]\n",
    "\n",
    "## Reverse\n",
    "    1. Reverse the list\n",
    "        eg: w = list(range(4))\n",
    "            print(w) -> [0, 1, 2, 3]\n",
    "            w[0], w[-1] -> (0, 3)\n",
    "\n",
    "    2. Reverse the list by indexing\n",
    "        eg: w[::-1] -> [3, 2, 1, 0]\n",
    "            w[-4] -> 0\n",
    "\n",
    "    3. Reverse the list by using reverse()\n",
    "        eg: w.reverse()\n",
    "            print(w) -> [3, 2, 1, 0]\n",
    "\n",
    "## .clear():\n",
    "        eg: w.clear()\n",
    "            print(w) -> []\n",
    "\n",
    "## Delete:\n",
    "    1. Delete the list object\n",
    "        eg: del w\n",
    "\n",
    "    2. After delete the list it will not exist\n",
    "        eg: w -> NameError: name 'w' is not defined"
   ],
   "metadata": {
    "collapsed": false
   }
  },
  {
   "cell_type": "markdown",
   "metadata": {
    "collapsed": true,
    "pycharm": {
     "name": "#%% md\n"
    }
   },
   "source": [
    "# Tuple\n",
    "## creation\n",
    "    1. w: tuple = ()\n",
    "    2. w = tuple()\n",
    "\n",
    "unpack\n",
    "and so on...\n",
    "search for extension of tuple such as namedTuple"
   ]
  },
  {
   "cell_type": "markdown",
   "source": [
    "# Dict\n",
    "## creation:\n",
    "    1. Dictionary is a sequence of (key, value) pairs\n",
    "    2. Keys must be hashable\n",
    "    eg: my_dict = {}\n",
    "\n",
    "keys(), values(), items()\n",
    ".update(), .get()\n",
    "and so on...\n",
    "search for extension of tuple such as OrderDict, defaultDict"
   ],
   "metadata": {
    "collapsed": false
   }
  },
  {
   "cell_type": "markdown",
   "source": [
    "# Set\n",
    "## creation\n",
    "    w = set()\n",
    "    for i in range (5):\n",
    "        w.add(i)\n",
    "    print(w) -> {0, 1, 2, 3, 4}\n",
    "\n",
    "##`set`.add():\n",
    "    w1 = set()\n",
    "    for i in range (5):\n",
    "        w1.add((i,i))\n",
    "    print(w1) -> {(4, 4), (0, 0), (1, 1), (3, 3), (2, 2)}\n",
    "\n",
    "    w1.add(1)\n",
    "    print(w1) -> {(4, 4), 1, (0, 0), (1, 1), (3, 3), (2, 2)}\n",
    "\n",
    "    w1.add(1)\n",
    "    print(w1) -> {(4, 4), 1, (0, 0), (1, 1), (3, 3), (2, 2)} # unique!\n",
    "\n",
    "##`set`.remove():"
   ],
   "metadata": {
    "collapsed": false
   }
  },
  {
   "cell_type": "markdown",
   "source": [
    "# While Loop:\n",
    "    i: int = 0\n",
    "    lst: list = []\n",
    "    while i < 10: # while True\n",
    "        if i == 5:\n",
    "            i += 1 # i=i+1\n",
    "            continue # break\n",
    "        else:\n",
    "            lst.append(i)\n",
    "            i += 1\n",
    "    print(lst) -> [0, 1, 2, 3, 4, 6, 7, 8, 9]"
   ],
   "metadata": {
    "collapsed": false
   }
  },
  {
   "cell_type": "markdown",
   "source": [
    "# For Loop:\n",
    "    lst =[]\n",
    "    for i in range(0, 5):\n",
    "        if i == 3:\n",
    "            continue\n",
    "        lst.append(i)\n",
    "    print(lst) -> [0, 1, 2, 4]"
   ],
   "metadata": {
    "collapsed": false
   }
  },
  {
   "cell_type": "markdown",
   "source": [
    "# List/Set/Dict comprehension:\n",
    "    example1 = [i for i in range(5)]\n",
    "    print(example) -> [0, 1, 2, 3, 4]\n",
    "\n",
    "    example2 = [i+10 for i in range(0,5) if i != 3]\n",
    "    print(example2) -> [10, 11, 12, 14]\n"
   ],
   "metadata": {
    "collapsed": false
   }
  },
  {
   "cell_type": "markdown",
   "source": [
    "# Condition: if elif else (==, !=, >=, <=, >, <, is, not)\n",
    "    == （判定）\n",
    "    ！= （不等于）\n",
    "    >= （大于等于）   > （大于）\n",
    "    <= （小于等于）   < （小于）\n",
    "    is  identical to\n",
    "    not (否定)"
   ],
   "metadata": {
    "collapsed": false
   }
  },
  {
   "cell_type": "markdown",
   "source": [
    "# Break, continue"
   ],
   "metadata": {
    "collapsed": false
   }
  },
  {
   "cell_type": "markdown",
   "source": [
    "# function : *args, **kwargs, docstring, typehint, assertion\n",
    "## lambda function"
   ],
   "metadata": {
    "collapsed": false,
    "pycharm": {
     "name": "#%% md\n"
    }
   }
  }
 ],
 "metadata": {
  "kernelspec": {
   "display_name": "Python 3",
   "language": "python",
   "name": "python3"
  },
  "language_info": {
   "codemirror_mode": {
    "name": "ipython",
    "version": 2
   },
   "file_extension": ".py",
   "mimetype": "text/x-python",
   "name": "python",
   "nbconvert_exporter": "python",
   "pygments_lexer": "ipython2",
   "version": "2.7.6"
  }
 },
 "nbformat": 4,
 "nbformat_minor": 0
}